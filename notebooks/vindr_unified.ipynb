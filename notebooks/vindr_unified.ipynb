{
 "cells": [
  {
   "cell_type": "code",
   "execution_count": null,
   "id": "a8d7e051",
   "metadata": {},
   "outputs": [],
   "source": [
    "import sys\n",
    "import os\n",
    "\n",
    "sys.path.append(os.path.abspath(\"..\"))\n",
    "\n",
    "from src.datasets.vindr_unified import VINDR_Dataset\n",
    "from src.config import image_size\n",
    "\n",
    "from torchvision.transforms import Compose, Resize, ToTensor, Normalize\n",
    "from torch.utils.data import DataLoader\n",
    "import matplotlib.pyplot as plt"
   ]
  },
  {
   "cell_type": "markdown",
   "id": "112ac062",
   "metadata": {},
   "source": [
    "## Data Loading and Preprocessing\n",
    "\n",
    "In this section, we define transformations, specify dataset paths, and create a PyTorch DataLoader to handle batch processing."
   ]
  },
  {
   "cell_type": "markdown",
   "id": "47cdd63a",
   "metadata": {},
   "source": [
    "### Define a series of transformations"
   ]
  },
  {
   "cell_type": "code",
   "execution_count": null,
   "id": "0f8fe57e",
   "metadata": {},
   "outputs": [],
   "source": [
    "transform = Compose([\n",
    "#     ToTensor(),  # Convert image to a PyTorch tensor\n",
    "    Resize((image_size, image_size), antialias=True),  # Resize image to image_sizeximage_size pixels while preserving quality\n",
    "    Normalize(0.007, 0.01)  # Normalize pixel values with mean=0.007 and std=0.01\n",
    "])"
   ]
  },
  {
   "cell_type": "markdown",
   "id": "c70d04e1",
   "metadata": {},
   "source": [
    "### Specify the file paths for annotations (CSV) and images"
   ]
  },
  {
   "cell_type": "code",
   "execution_count": null,
   "id": "9cbd602b",
   "metadata": {},
   "outputs": [],
   "source": [
    "csv_path = '/data/vindr-mammo-a-large-scale-benchmark-dataset-for-computer-aided-detection-and-diagnosis-in-full-field-digital-mammography-1.0.0/finding_annotations.csv'\n",
    "images_path = '/data/vindr-mammo-a-large-scale-benchmark-dataset-for-computer-aided-detection-and-diagnosis-in-full-field-digital-mammography-1.0.0/images/'"
   ]
  },
  {
   "cell_type": "markdown",
   "id": "77f16414",
   "metadata": {},
   "source": [
    "### Initialize dataset and dataloader"
   ]
  },
  {
   "cell_type": "code",
   "execution_count": null,
   "id": "5af834b9",
   "metadata": {},
   "outputs": [],
   "source": [
    "dataset = VINDR_Dataset(csv_path, images_path, transform=transform)\n",
    "dataloader = DataLoader(dataset, batch_size=1)"
   ]
  },
  {
   "cell_type": "code",
   "execution_count": null,
   "id": "8c9a76b7",
   "metadata": {},
   "outputs": [],
   "source": [
    "import torch\n",
    "import matplotlib.pyplot as plt\n",
    "import numpy as np\n",
    "\n",
    "for batch_idx, x in enumerate(dataloader):\n",
    "    if batch_idx >= 20:  # Ograničavamo na 10 slika\n",
    "        break\n",
    "    \n",
    "    print(x.shape)\n",
    "    arr = x[0].numpy()  # Pretvaramo tensor u numpy array (dim: 3xHxW)\n",
    "    \n",
    "    fig, axes = plt.subplots(1, 3, figsize=(7, 5))  # Jedan red, tri slike\n",
    "    \n",
    "    for i in range(3):\n",
    "        img = arr[i, :, :].copy()  # Kopiramo kanal slike\n",
    "        \n",
    "        # Na prvom kanalu (i=1), crtamo ivice kvadrata i dodajemo oznake\n",
    "        if i == 1:\n",
    "            h, w = img.shape\n",
    "            size = 256//4\n",
    "            start_x, start_y = (w - size) // 2, (h - size) // 2\n",
    "            end_x, end_y = start_x + size, start_y + size\n",
    "            \n",
    "            # Postavljamo ivice na max vrednost slike\n",
    "            img[start_y, start_x:end_x] = img.max()  # Gornja ivica\n",
    "            img[end_y-1, start_x:end_x] = img.max()  # Donja ivica\n",
    "            img[start_y:end_y, start_x] = img.max()  # Leva ivica\n",
    "            img[start_y:end_y, end_x-1] = img.max()  # Desna ivica\n",
    "\n",
    "            # Dodajemo x_ticks i y_ticks na 85 i 171\n",
    "            axes[i].set_xticks([0, 64, 128, 192, 256])\n",
    "            axes[i].set_yticks([0, 64, 128, 192, 256])\n",
    "        \n",
    "        axes[i].imshow(img, cmap=\"gray\", vmin=arr.min(), vmax=arr.max())\n",
    "        axes[i].set_title(f\"Channel {i}\")\n",
    "#         axes[i].axis(\"on\" if i == 1 else \"off\")  # Ose samo za kanal 1\n",
    "    \n",
    "    plt.tight_layout()\n",
    "    plt.show()\n"
   ]
  }
 ],
 "metadata": {
  "kernelspec": {
   "display_name": "Python 3 (ipykernel)",
   "language": "python",
   "name": "python3"
  },
  "language_info": {
   "codemirror_mode": {
    "name": "ipython",
    "version": 3
   },
   "file_extension": ".py",
   "mimetype": "text/x-python",
   "name": "python",
   "nbconvert_exporter": "python",
   "pygments_lexer": "ipython3",
   "version": "3.10.12"
  }
 },
 "nbformat": 4,
 "nbformat_minor": 5
}
