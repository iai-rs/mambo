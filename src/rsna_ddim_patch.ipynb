{
 "cells": [
  {
   "cell_type": "code",
   "execution_count": 1,
   "id": "4dde2286",
   "metadata": {},
   "outputs": [
    {
     "name": "stderr",
     "output_type": "stream",
     "text": [
      "/usr/local/lib/python3.10/dist-packages/tqdm/auto.py:21: TqdmWarning: IProgress not found. Please update jupyter and ipywidgets. See https://ipywidgets.readthedocs.io/en/stable/user_install.html\n",
      "  from .autonotebook import tqdm as notebook_tqdm\n"
     ]
    }
   ],
   "source": [
    "import os\n",
    "from pathlib import Path\n",
    "\n",
    "import itertools\n",
    "import torch\n",
    "from models.ddpm import *\n",
    "from models.unet import Unet\n",
    "from models.ddpm_classifier_free import Unet as Unet_class\n",
    "from utils.image_utils import save_image_to_dir, save_patches_to_dir\n",
    "from utils.model_utils import (load_model, load_classifier_free_model, generate_whole_image, create_lcl_ctx_channels, \n",
    "                               create_inputs, generate_patches, stitch_patches, create_patch_channels)\n",
    "from config import IS_COND, OVERLAP, MID_IMAGE_SIZE, FINAL_IMAGE_SIZE, total_timesteps, RSNA_WH_PATH, RSNA_LC_PATH, RSNA_PH_PATH, SAVE_DIR\n",
    "import einops"
   ]
  },
  {
   "cell_type": "code",
   "execution_count": 2,
   "id": "82763225",
   "metadata": {},
   "outputs": [],
   "source": [
    "from datasets.rsna_patch import RSNA_Dataset\n",
    "import matplotlib.pyplot as plt"
   ]
  },
  {
   "cell_type": "code",
   "execution_count": 3,
   "id": "c3e185d0",
   "metadata": {},
   "outputs": [],
   "source": [
    "patch_model = load_model(RSNA_PH_PATH, channels=3)\n",
    "patch_model = patch_model.to('cuda')"
   ]
  },
  {
   "cell_type": "code",
   "execution_count": 4,
   "id": "a8677974",
   "metadata": {},
   "outputs": [
    {
     "name": "stdout",
     "output_type": "stream",
     "text": [
      "10722\n",
      "14898\n"
     ]
    },
    {
     "name": "stderr",
     "output_type": "stream",
     "text": [
      "sampling loop time step: 100%|██████████| 50/50 [00:02<00:00, 24.90it/s]\n",
      "sampling loop time step: 100%|██████████| 100/100 [00:03<00:00, 29.31it/s]\n",
      "sampling loop time step: 100%|██████████| 150/150 [00:05<00:00, 29.31it/s]\n",
      "sampling loop time step: 100%|██████████| 200/200 [00:06<00:00, 29.31it/s]\n"
     ]
    },
    {
     "name": "stdout",
     "output_type": "stream",
     "text": [
      "10722\n",
      "14898\n"
     ]
    },
    {
     "name": "stderr",
     "output_type": "stream",
     "text": [
      "sampling loop time step: 100%|██████████| 50/50 [00:01<00:00, 29.32it/s]\n",
      "sampling loop time step: 100%|██████████| 100/100 [00:03<00:00, 29.30it/s]\n",
      "sampling loop time step: 100%|██████████| 150/150 [00:05<00:00, 29.29it/s]\n",
      "sampling loop time step: 100%|██████████| 200/200 [00:06<00:00, 29.27it/s]\n"
     ]
    },
    {
     "name": "stdout",
     "output_type": "stream",
     "text": [
      "10722\n",
      "14898\n"
     ]
    },
    {
     "name": "stderr",
     "output_type": "stream",
     "text": [
      "sampling loop time step: 100%|██████████| 50/50 [00:01<00:00, 29.28it/s]\n",
      "sampling loop time step: 100%|██████████| 100/100 [00:03<00:00, 29.27it/s]\n",
      "sampling loop time step: 100%|██████████| 150/150 [00:05<00:00, 29.26it/s]\n",
      "sampling loop time step: 100%|██████████| 200/200 [00:06<00:00, 29.27it/s]\n"
     ]
    },
    {
     "name": "stdout",
     "output_type": "stream",
     "text": [
      "10722\n",
      "14898\n"
     ]
    },
    {
     "name": "stderr",
     "output_type": "stream",
     "text": [
      "sampling loop time step: 100%|██████████| 50/50 [00:01<00:00, 29.28it/s]\n",
      "sampling loop time step: 100%|██████████| 100/100 [00:03<00:00, 29.27it/s]\n",
      "sampling loop time step: 100%|██████████| 150/150 [00:05<00:00, 29.27it/s]\n",
      "sampling loop time step: 100%|██████████| 200/200 [00:06<00:00, 29.25it/s]\n"
     ]
    },
    {
     "name": "stdout",
     "output_type": "stream",
     "text": [
      "10722\n",
      "14898\n"
     ]
    },
    {
     "name": "stderr",
     "output_type": "stream",
     "text": [
      "sampling loop time step: 100%|██████████| 50/50 [00:01<00:00, 29.29it/s]\n",
      "sampling loop time step: 100%|██████████| 100/100 [00:03<00:00, 29.27it/s]\n",
      "sampling loop time step: 100%|██████████| 150/150 [00:05<00:00, 29.27it/s]\n",
      "sampling loop time step: 100%|██████████| 200/200 [00:06<00:00, 29.24it/s]\n"
     ]
    },
    {
     "name": "stdout",
     "output_type": "stream",
     "text": [
      "4348\n",
      "14898\n"
     ]
    },
    {
     "name": "stderr",
     "output_type": "stream",
     "text": [
      "sampling loop time step: 100%|██████████| 50/50 [00:01<00:00, 29.24it/s]\n",
      "sampling loop time step: 100%|██████████| 100/100 [00:03<00:00, 29.23it/s]\n",
      "sampling loop time step: 100%|██████████| 150/150 [00:05<00:00, 29.24it/s]\n",
      "sampling loop time step: 100%|██████████| 200/200 [00:06<00:00, 29.25it/s]\n"
     ]
    },
    {
     "name": "stdout",
     "output_type": "stream",
     "text": [
      "4348\n",
      "14898\n"
     ]
    },
    {
     "name": "stderr",
     "output_type": "stream",
     "text": [
      "sampling loop time step: 100%|██████████| 50/50 [00:01<00:00, 29.22it/s]\n",
      "sampling loop time step: 100%|██████████| 100/100 [00:03<00:00, 29.23it/s]\n",
      "sampling loop time step:  65%|██████▍   | 97/150 [00:03<00:01, 28.95it/s]\n",
      "\n",
      "KeyboardInterrupt\n",
      "\n"
     ]
    }
   ],
   "source": [
    "for i, x in enumerate(RSNA_Dataset()):\n",
    "    try:\n",
    "        save_dir = f'/lustre/ddim-gen/rsna/patches/{i}/'\n",
    "        os.makedirs(save_dir, exist_ok=True)\n",
    "        plt.imsave(save_dir + 'orig.png', x[0], cmap='gray')\n",
    "\n",
    "        for steps in [50, 100, 150, 200]:\n",
    "                patch = ddim_sample_patch(patch_model, einops.rearrange(x, 'c h w -> 1 c h w'), sampling_timesteps=steps)\n",
    "                plt.imsave(save_dir + f'{steps}.png', patch, cmap='gray')\n",
    "    except:\n",
    "        pass"
   ]
  }
 ],
 "metadata": {
  "kernelspec": {
   "display_name": "Python 3 (ipykernel)",
   "language": "python",
   "name": "python3"
  },
  "language_info": {
   "codemirror_mode": {
    "name": "ipython",
    "version": 3
   },
   "file_extension": ".py",
   "mimetype": "text/x-python",
   "name": "python",
   "nbconvert_exporter": "python",
   "pygments_lexer": "ipython3",
   "version": "3.10.12"
  }
 },
 "nbformat": 4,
 "nbformat_minor": 5
}
