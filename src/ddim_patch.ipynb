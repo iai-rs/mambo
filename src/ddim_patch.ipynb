{
 "cells": [
  {
   "cell_type": "code",
   "execution_count": 1,
   "id": "735939ee",
   "metadata": {},
   "outputs": [
    {
     "name": "stderr",
     "output_type": "stream",
     "text": [
      "/usr/local/lib/python3.10/dist-packages/tqdm/auto.py:21: TqdmWarning: IProgress not found. Please update jupyter and ipywidgets. See https://ipywidgets.readthedocs.io/en/stable/user_install.html\n",
      "  from .autonotebook import tqdm as notebook_tqdm\n"
     ]
    }
   ],
   "source": [
    "import os\n",
    "from pathlib import Path\n",
    "\n",
    "import itertools\n",
    "import torch\n",
    "from models.ddpm import *\n",
    "from models.unet import Unet\n",
    "from models.ddpm_classifier_free import Unet as Unet_class\n",
    "from utils.image_utils import save_image_to_dir, save_patches_to_dir\n",
    "from utils.model_utils import (load_model, load_classifier_free_model, generate_whole_image, create_lcl_ctx_channels, \n",
    "                               create_inputs, generate_patches, stitch_patches, create_patch_channels)\n",
    "from config import IS_COND, OVERLAP, MID_IMAGE_SIZE, FINAL_IMAGE_SIZE, total_timesteps, WH_PATH, LC_PATH, PH_PATH, SAVE_DIR\n",
    "import einops"
   ]
  },
  {
   "cell_type": "code",
   "execution_count": 2,
   "id": "36b9eda6",
   "metadata": {},
   "outputs": [],
   "source": [
    "from datasets.vindr_patch import VINDR_Dataset\n",
    "import matplotlib.pyplot as plt"
   ]
  },
  {
   "cell_type": "code",
   "execution_count": 3,
   "id": "01de2608",
   "metadata": {},
   "outputs": [],
   "source": [
    "patch_model = load_model(PH_PATH, channels=3)\n",
    "patch_model = patch_model.to('cuda')"
   ]
  },
  {
   "cell_type": "code",
   "execution_count": null,
   "id": "b40c8a19",
   "metadata": {},
   "outputs": [
    {
     "name": "stderr",
     "output_type": "stream",
     "text": [
      "sampling loop time step: 100%|██████████| 50/50 [00:01<00:00, 28.96it/s]\n",
      "sampling loop time step: 100%|██████████| 50/50 [00:01<00:00, 29.31it/s]\n"
     ]
    },
    {
     "name": "stdout",
     "output_type": "stream",
     "text": [
      "error with num  775\n"
     ]
    },
    {
     "name": "stderr",
     "output_type": "stream",
     "text": [
      "sampling loop time step: 100%|██████████| 50/50 [00:01<00:00, 29.28it/s]\n",
      "sampling loop time step: 100%|██████████| 50/50 [00:01<00:00, 29.29it/s]\n",
      "sampling loop time step: 100%|██████████| 50/50 [00:01<00:00, 29.29it/s]\n",
      "sampling loop time step:   8%|▊         | 4/50 [00:00<00:01, 28.95it/s]\n"
     ]
    },
    {
     "name": "stdout",
     "output_type": "stream",
     "text": [
      "error with num  779\n",
      "error with num  780\n"
     ]
    },
    {
     "name": "stderr",
     "output_type": "stream",
     "text": [
      "sampling loop time step: 100%|██████████| 50/50 [00:01<00:00, 29.28it/s]\n",
      "sampling loop time step:  96%|█████████▌| 48/50 [00:01<00:00, 28.68it/s]"
     ]
    }
   ],
   "source": [
    "dataset = VINDR_Dataset()\n",
    "for i in range(773, len(dataset)):\n",
    "#for i, x in enumerate():\n",
    "    try:\n",
    "        x = dataset[i]\n",
    "        save_dir = f'/lustre/ddim-gen/vindr/patches/{i}/'\n",
    "        os.makedirs(save_dir, exist_ok=True)\n",
    "        plt.imsave(save_dir + 'orig.png', x[0], cmap='gray')\n",
    "\n",
    "        for steps in [50]:\n",
    "            patch = ddim_sample_patch(patch_model, einops.rearrange(x, 'c h w -> 1 c h w'), sampling_timesteps=steps)\n",
    "            #plt.imsave(save_dir + f'{steps}.png', patch, cmap='gray')\n",
    "    except:\n",
    "        print('error with num ', i)\n",
    "        pass"
   ]
  }
 ],
 "metadata": {
  "kernelspec": {
   "display_name": "Python 3 (ipykernel)",
   "language": "python",
   "name": "python3"
  },
  "language_info": {
   "codemirror_mode": {
    "name": "ipython",
    "version": 3
   },
   "file_extension": ".py",
   "mimetype": "text/x-python",
   "name": "python",
   "nbconvert_exporter": "python",
   "pygments_lexer": "ipython3",
   "version": "3.10.12"
  }
 },
 "nbformat": 4,
 "nbformat_minor": 5
}
