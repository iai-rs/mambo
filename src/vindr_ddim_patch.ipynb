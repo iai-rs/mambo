{
 "cells": [
  {
   "cell_type": "code",
   "execution_count": 1,
   "id": "5aca1c0f",
   "metadata": {},
   "outputs": [
    {
     "name": "stderr",
     "output_type": "stream",
     "text": [
      "/usr/local/lib/python3.10/dist-packages/tqdm/auto.py:21: TqdmWarning: IProgress not found. Please update jupyter and ipywidgets. See https://ipywidgets.readthedocs.io/en/stable/user_install.html\n",
      "  from .autonotebook import tqdm as notebook_tqdm\n"
     ]
    }
   ],
   "source": [
    "import os\n",
    "from pathlib import Path\n",
    "\n",
    "import itertools\n",
    "import torch\n",
    "from models.ddpm import *\n",
    "from models.unet import Unet\n",
    "from models.ddpm_classifier_free import Unet as Unet_class\n",
    "from utils.image_utils import save_image_to_dir, save_patches_to_dir\n",
    "from utils.model_utils import (load_model, load_classifier_free_model, generate_whole_image, create_lcl_ctx_channels, \n",
    "                               create_inputs, generate_patches, stitch_patches, create_patch_channels)\n",
    "from config import IS_COND, OVERLAP, MID_IMAGE_SIZE, FINAL_IMAGE_SIZE, total_timesteps, WH_PATH, LC_PATH, PH_PATH, SAVE_DIR\n",
    "import einops\n",
    "import numpy as np"
   ]
  },
  {
   "cell_type": "code",
   "execution_count": 2,
   "id": "d8b7c546",
   "metadata": {},
   "outputs": [],
   "source": [
    "from datasets.vindr_local_context import VINDR_Dataset\n",
    "import matplotlib.pyplot as plt"
   ]
  },
  {
   "cell_type": "code",
   "execution_count": 3,
   "id": "f69081ea",
   "metadata": {},
   "outputs": [],
   "source": [
    "model_name = 'vindr_local_context_256'\n",
    "model_dir = '/lustre/mambo/results/vindr_local_context_256/25_02_21_09_24/models/model_'\n",
    "save_dir = '/lustre/mambo/data/ddim_early_stopping/'\n",
    "images_path = '/data/vindr-mammo-a-large-scale-benchmark-dataset-for-computer-aided-detection-and-diagnosis-in-full-field-digital-mammography-1.0.0/images'\n",
    "data_csv_path = '/data/vindr-mammo-a-large-scale-benchmark-dataset-for-computer-aided-detection-and-diagnosis-in-full-field-digital-mammography-1.0.0/finding_annotations.csv'"
   ]
  },
  {
   "cell_type": "code",
   "execution_count": null,
   "id": "111efa9f",
   "metadata": {},
   "outputs": [
    {
     "name": "stdout",
     "output_type": "stream",
     "text": [
      "model loaded  /lustre/mambo/results/vindr_local_context_256/25_02_21_09_24/models/model_1999.pt\n",
      "exists  /lustre/mambo/data/ddim_early_stopping/vindr_local_context_256/1999\n",
      "model loaded  /lustre/mambo/results/vindr_local_context_256/25_02_21_09_24/models/model_3999.pt\n",
      "exists  /lustre/mambo/data/ddim_early_stopping/vindr_local_context_256/3999\n",
      "model loaded  /lustre/mambo/results/vindr_local_context_256/25_02_21_09_24/models/model_5999.pt\n",
      "exists  /lustre/mambo/data/ddim_early_stopping/vindr_local_context_256/5999\n",
      "model loaded  /lustre/mambo/results/vindr_local_context_256/25_02_21_09_24/models/model_7999.pt\n",
      "exists  /lustre/mambo/data/ddim_early_stopping/vindr_local_context_256/7999\n",
      "model loaded  /lustre/mambo/results/vindr_local_context_256/25_02_21_09_24/models/model_9999.pt\n",
      "exists  /lustre/mambo/data/ddim_early_stopping/vindr_local_context_256/9999\n",
      "model loaded  /lustre/mambo/results/vindr_local_context_256/25_02_21_09_24/models/model_11999.pt\n",
      "exists  /lustre/mambo/data/ddim_early_stopping/vindr_local_context_256/11999\n",
      "model loaded  /lustre/mambo/results/vindr_local_context_256/25_02_21_09_24/models/model_13999.pt\n",
      "exists  /lustre/mambo/data/ddim_early_stopping/vindr_local_context_256/13999\n",
      "model loaded  /lustre/mambo/results/vindr_local_context_256/25_02_21_09_24/models/model_15999.pt\n",
      "exists  /lustre/mambo/data/ddim_early_stopping/vindr_local_context_256/15999\n",
      "model loaded  /lustre/mambo/results/vindr_local_context_256/25_02_21_09_24/models/model_17999.pt\n",
      "exists  /lustre/mambo/data/ddim_early_stopping/vindr_local_context_256/17999\n",
      "model loaded  /lustre/mambo/results/vindr_local_context_256/25_02_21_09_24/models/model_19999.pt\n",
      "exists  /lustre/mambo/data/ddim_early_stopping/vindr_local_context_256/19999\n",
      "model loaded  /lustre/mambo/results/vindr_local_context_256/25_02_21_09_24/models/model_21999.pt\n",
      "exists  /lustre/mambo/data/ddim_early_stopping/vindr_local_context_256/21999\n",
      "model loaded  /lustre/mambo/results/vindr_local_context_256/25_02_21_09_24/models/model_23999.pt\n",
      "exists  /lustre/mambo/data/ddim_early_stopping/vindr_local_context_256/23999\n",
      "model loaded  /lustre/mambo/results/vindr_local_context_256/25_02_21_09_24/models/model_25999.pt\n",
      "/lustre/mambo/data/ddim_early_stopping/vindr_local_context_256/25999\n"
     ]
    },
    {
     "name": "stderr",
     "output_type": "stream",
     "text": [
      "sampling loop time step: 100%|██████████| 150/150 [00:05<00:00, 27.39it/s]\n"
     ]
    },
    {
     "name": "stdout",
     "output_type": "stream",
     "text": [
      "/lustre/mambo/data/ddim_early_stopping/vindr_local_context_256/25999\n"
     ]
    },
    {
     "name": "stderr",
     "output_type": "stream",
     "text": [
      "sampling loop time step: 100%|██████████| 150/150 [00:05<00:00, 29.14it/s]\n"
     ]
    },
    {
     "name": "stdout",
     "output_type": "stream",
     "text": [
      "/lustre/mambo/data/ddim_early_stopping/vindr_local_context_256/25999\n"
     ]
    },
    {
     "name": "stderr",
     "output_type": "stream",
     "text": [
      "sampling loop time step: 100%|██████████| 150/150 [00:05<00:00, 29.17it/s]\n"
     ]
    },
    {
     "name": "stdout",
     "output_type": "stream",
     "text": [
      "/lustre/mambo/data/ddim_early_stopping/vindr_local_context_256/25999\n"
     ]
    },
    {
     "name": "stderr",
     "output_type": "stream",
     "text": [
      "sampling loop time step: 100%|██████████| 150/150 [00:05<00:00, 28.89it/s]\n"
     ]
    },
    {
     "name": "stdout",
     "output_type": "stream",
     "text": [
      "/lustre/mambo/data/ddim_early_stopping/vindr_local_context_256/25999\n"
     ]
    },
    {
     "name": "stderr",
     "output_type": "stream",
     "text": [
      "sampling loop time step: 100%|██████████| 150/150 [00:05<00:00, 28.41it/s]\n"
     ]
    },
    {
     "name": "stdout",
     "output_type": "stream",
     "text": [
      "/lustre/mambo/data/ddim_early_stopping/vindr_local_context_256/25999\n"
     ]
    },
    {
     "name": "stderr",
     "output_type": "stream",
     "text": [
      "sampling loop time step: 100%|██████████| 150/150 [00:05<00:00, 28.52it/s]\n"
     ]
    },
    {
     "name": "stdout",
     "output_type": "stream",
     "text": [
      "/lustre/mambo/data/ddim_early_stopping/vindr_local_context_256/25999\n"
     ]
    },
    {
     "name": "stderr",
     "output_type": "stream",
     "text": [
      "sampling loop time step: 100%|██████████| 150/150 [00:05<00:00, 28.45it/s]\n"
     ]
    },
    {
     "name": "stdout",
     "output_type": "stream",
     "text": [
      "/lustre/mambo/data/ddim_early_stopping/vindr_local_context_256/25999\n"
     ]
    },
    {
     "name": "stderr",
     "output_type": "stream",
     "text": [
      "sampling loop time step: 100%|██████████| 150/150 [00:05<00:00, 28.99it/s]\n"
     ]
    },
    {
     "name": "stdout",
     "output_type": "stream",
     "text": [
      "/lustre/mambo/data/ddim_early_stopping/vindr_local_context_256/25999\n"
     ]
    },
    {
     "name": "stderr",
     "output_type": "stream",
     "text": [
      "sampling loop time step: 100%|██████████| 150/150 [00:05<00:00, 29.11it/s]\n"
     ]
    },
    {
     "name": "stdout",
     "output_type": "stream",
     "text": [
      "/lustre/mambo/data/ddim_early_stopping/vindr_local_context_256/25999\n"
     ]
    },
    {
     "name": "stderr",
     "output_type": "stream",
     "text": [
      "sampling loop time step:  24%|██▍       | 36/150 [00:01<00:03, 28.92it/s]\n"
     ]
    },
    {
     "name": "stdout",
     "output_type": "stream",
     "text": [
      "error with num  9\n",
      "/lustre/mambo/data/ddim_early_stopping/vindr_local_context_256/25999\n"
     ]
    },
    {
     "name": "stderr",
     "output_type": "stream",
     "text": [
      "sampling loop time step:  92%|█████████▏| 138/150 [00:04<00:00, 29.15it/s]"
     ]
    }
   ],
   "source": [
    "for model_id in range(1999, 58000, 2000):\n",
    "\n",
    "    model_path = model_dir + f'{str(model_id)}.pt'\n",
    "    patch_model = load_model(model_path, channels=3)\n",
    "    patch_model = patch_model.to('cuda')\n",
    "    orig_path = os.path.join(save_dir, model_name, 'orig/')\n",
    "    os.makedirs(orig_path, exist_ok=True)\n",
    "    save_path = os.path.join(save_dir, model_name, str(model_id))\n",
    "    print('model loaded ', model_path)\n",
    "    if os.path.exists(save_path):\n",
    "        print('exists ', save_path)\n",
    "        continue\n",
    "    dataset = VINDR_Dataset(csv_path=data_csv_path, images_path=images_path)\n",
    "    for i in range(100):\n",
    "        try:\n",
    "            x = dataset[i]\n",
    "    #             save_dir = f'/lustre/ddim-gen/vindr/patches/{i}/'\n",
    "            os.makedirs(save_path, exist_ok=True)\n",
    "            print(save_path)\n",
    "            plt.imsave(orig_path + f'orig_{str(i)}.png', x[0], cmap='gray')\n",
    "\n",
    "            patch = ddim_sample_patch(patch_model, einops.rearrange(x, 'c h w -> 1 c h w'), sampling_timesteps=150)\n",
    "            save_image_to_dir(np.array(patch), str(Path(save_path) / f'patch_{str(i)}.png'))\n",
    "        except:\n",
    "            print('error with num ', i)\n",
    "            pass\n"
   ]
  },
  {
   "cell_type": "code",
   "execution_count": 12,
   "id": "be6a0946",
   "metadata": {},
   "outputs": [
    {
     "data": {
      "text/plain": [
       "torch.Size([256, 256])"
      ]
     },
     "execution_count": 12,
     "metadata": {},
     "output_type": "execute_result"
    }
   ],
   "source": [
    "patch.shape"
   ]
  }
 ],
 "metadata": {
  "kernelspec": {
   "display_name": "Python 3 (ipykernel)",
   "language": "python",
   "name": "python3"
  },
  "language_info": {
   "codemirror_mode": {
    "name": "ipython",
    "version": 3
   },
   "file_extension": ".py",
   "mimetype": "text/x-python",
   "name": "python",
   "nbconvert_exporter": "python",
   "pygments_lexer": "ipython3",
   "version": "3.10.12"
  }
 },
 "nbformat": 4,
 "nbformat_minor": 5
}
